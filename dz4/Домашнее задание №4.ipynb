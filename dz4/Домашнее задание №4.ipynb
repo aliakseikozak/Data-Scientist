{
 "cells": [
  {
   "cell_type": "code",
   "execution_count": 1,
   "metadata": {},
   "outputs": [],
   "source": [
    "import data_loader as dl\n",
    "import data_visualizer as dv \n",
    "import numpy as np\n",
    "import pandas as pd\n",
    "import logging\n",
    "import os\n",
    "from sklearn.ensemble import GradientBoostingClassifier\n",
    "from sklearn.preprocessing import LabelEncoder\n",
    "from sklearn.model_selection import train_test_split\n",
    "from sklearn.metrics import accuracy_score, classification_report\n",
    "from imblearn.over_sampling import RandomOverSampler\n",
    "from match_predictor import predict_match_outcome\n",
    "from adaboost_module import adaboost_model\n",
    "from lightgbm_module import lightgbm_train_model\n",
    "from extratrees_module import train_et_model\n",
    "from xgb_model import xgboost_model\n",
    "from sklearn.ensemble import AdaBoostClassifier\n",
    "from gradient_boosting_module import train_and_prepare_model\n",
    "\n",
    "\n",
    "logging.basicConfig(filename='log.log', level=logging.INFO, format=\"%(asctime)s %(levelname)s %(module)s %(message)s\")\n",
    "logger = logging.getLogger(__name__)\n",
    "# Загрузка данных\n",
    "\n",
    "file_csv = 'results.csv'\n",
    "\n",
    "try:\n",
    "    loader = dl.DataLoader()\n",
    "    df = loader.load_csv(file_csv)\n",
    "except Exception as e:\n",
    "    logger.exception(f\"Ошибка при загрузке CSV: {e}\")    \n",
    "\n",
    "# Из-за огромного количества записей выбераю только данные с 2015 года \n",
    "df['year'] = df['date'].str[:4].astype(int)\n",
    "df_filtered = df[df['year'] >= 2015]\n",
    "df_filtered = df_filtered.drop(columns=['year'])\n",
    "\n",
    "    # Добавляем новые признаки\n",
    "df_filtered['home_team_avg_goals'] = df_filtered.groupby('home_team')['home_score'].transform(lambda x: x.rolling(window=5, min_periods=1).mean())\n",
    "df_filtered['away_team_avg_goals'] = df_filtered.groupby('away_team')['away_score'].transform(lambda x: x.rolling(window=5, min_periods=1).mean())\n",
    "df_filtered['home_team_avg_goals_10'] = df_filtered.groupby('home_team')['home_score'].transform(lambda x: x.rolling(window=10, min_periods=1).mean())\n",
    "df_filtered['away_team_avg_goals_10'] = df_filtered.groupby('away_team')['away_score'].transform(lambda x: x.rolling(window=10, min_periods=1).mean())\n",
    "df_filtered['outcome'] = df.apply(\n",
    "    lambda row: 'home_win' if row['home_score'] > row['away_score'] else\n",
    "                'draw' if row['home_score'] == row['away_score'] else\n",
    "                'away_win', axis=1\n",
    ")\n",
    "\n",
    "# Добавляем новые признаки: победы и поражения за последние 5 матчей\n",
    "# Для домашней команды\n",
    "df_filtered['home_team_wins'] = df_filtered.groupby('home_team')['outcome'].transform(\n",
    "    lambda x: (x == 'home_win').rolling(window=5, min_periods=1).sum()\n",
    ")\n",
    "df_filtered['home_team_losses'] = df_filtered.groupby('home_team')['outcome'].transform(\n",
    "    lambda x: (x == 'away_win').rolling(window=5, min_periods=1).sum()\n",
    ")\n",
    "\n",
    "# Для гостевой команды\n",
    "df_filtered['away_team_wins'] = df_filtered.groupby('away_team')['outcome'].transform(\n",
    "    lambda x: (x == 'away_win').rolling(window=5, min_periods=1).sum()\n",
    ")\n",
    "df_filtered['away_team_losses'] = df_filtered.groupby('away_team')['outcome'].transform(\n",
    "    lambda x: (x == 'home_win').rolling(window=5, min_periods=1).sum()\n",
    ")\n",
    "\n",
    "# Добавляем колонку с результатами последних 5 матчей между командами\n",
    "df_filtered['last_5_results'] = None\n",
    "\n",
    "for i, row in df_filtered.iterrows():\n",
    "    home_team = row['home_team']\n",
    "    away_team = row['away_team']\n",
    "    date = row['date']\n",
    "\n",
    "    # Находим последние 5 матчей между этими командами до текущей даты\n",
    "    matches = df_filtered[\n",
    "        (\n",
    "            (df_filtered['home_team'] == home_team) & (df_filtered['away_team'] == away_team)\n",
    "        ) | (\n",
    "            (df_filtered['home_team'] == away_team) & (df_filtered['away_team'] == home_team) & (df_filtered['date'] < date)\n",
    "        )\n",
    "    ].sort_values(by='date', ascending=False).head(5)\n",
    "\n",
    "    # Собираем результаты матчей\n",
    "    results = []\n",
    "    for _, match in matches.iterrows():\n",
    "        if match['home_team'] == home_team:\n",
    "            results.append(match['outcome'])\n",
    "        else:\n",
    "            # Если команды поменялись местами, инвертируем результат\n",
    "            if match['outcome'] == 'home_win':\n",
    "                results.append('away_win')\n",
    "            elif match['outcome'] == 'away_win':\n",
    "                results.append('home_win')\n",
    "            else:\n",
    "                results.append('draw')\n",
    "\n",
    "    # Сохраняем результаты в виде строки\n",
    "    df_filtered.at[i, 'last_5_results'] = ','.join(results)\n",
    "\n",
    "# Преобразуем last_5_results в числовые признаки\n",
    "df_filtered['last_5_home_wins'] = df_filtered['last_5_results'].apply(lambda x: x.count('home_win'))\n",
    "df_filtered['last_5_away_wins'] = df_filtered['last_5_results'].apply(lambda x: x.count('away_win'))\n",
    "df_filtered['last_5_draws'] = df_filtered['last_5_results'].apply(lambda x: x.count('draw'))\n",
    "\n",
    "df_filtered_pr = df_filtered.copy() #какая-то ерунда с датасетом происходит на момент обучения модели, создал отдельный датасет который буду только для прогнозов использовать\n",
    "\n",
    "output_file = 'filtered_results.xlsx'\n",
    "\n",
    "try:\n",
    "    df_filtered.to_excel(output_file, index=False)  # index=False, чтобы не сохранять индексы\n",
    "    logger.info(f\"Датасет успешно сохранен в файл: {output_file}\")\n",
    "except Exception as e:\n",
    "    logger.exception(f\"Ошибка при сохранении Excel: {e}\")\n",
    "\n"
   ]
  },
  {
   "cell_type": "code",
   "execution_count": 2,
   "metadata": {},
   "outputs": [
    {
     "data": {
      "text/html": [
       "<div>\n",
       "<style scoped>\n",
       "    .dataframe tbody tr th:only-of-type {\n",
       "        vertical-align: middle;\n",
       "    }\n",
       "\n",
       "    .dataframe tbody tr th {\n",
       "        vertical-align: top;\n",
       "    }\n",
       "\n",
       "    .dataframe thead th {\n",
       "        text-align: right;\n",
       "    }\n",
       "</style>\n",
       "<table border=\"1\" class=\"dataframe\">\n",
       "  <thead>\n",
       "    <tr style=\"text-align: right;\">\n",
       "      <th></th>\n",
       "      <th>date</th>\n",
       "      <th>home_team</th>\n",
       "      <th>away_team</th>\n",
       "      <th>home_score</th>\n",
       "      <th>away_score</th>\n",
       "      <th>tournament</th>\n",
       "      <th>city</th>\n",
       "      <th>country</th>\n",
       "      <th>neutral</th>\n",
       "      <th>home_team_avg_goals</th>\n",
       "      <th>...</th>\n",
       "      <th>away_team_avg_goals_10</th>\n",
       "      <th>outcome</th>\n",
       "      <th>home_team_wins</th>\n",
       "      <th>home_team_losses</th>\n",
       "      <th>away_team_wins</th>\n",
       "      <th>away_team_losses</th>\n",
       "      <th>last_5_results</th>\n",
       "      <th>last_5_home_wins</th>\n",
       "      <th>last_5_away_wins</th>\n",
       "      <th>last_5_draws</th>\n",
       "    </tr>\n",
       "  </thead>\n",
       "  <tbody>\n",
       "    <tr>\n",
       "      <th>38370</th>\n",
       "      <td>2015-01-04</td>\n",
       "      <td>Bahrain</td>\n",
       "      <td>Jordan</td>\n",
       "      <td>1</td>\n",
       "      <td>0</td>\n",
       "      <td>Friendly</td>\n",
       "      <td>Ballarat</td>\n",
       "      <td>Australia</td>\n",
       "      <td>True</td>\n",
       "      <td>1.0</td>\n",
       "      <td>...</td>\n",
       "      <td>0.0</td>\n",
       "      <td>home_win</td>\n",
       "      <td>1.0</td>\n",
       "      <td>0.0</td>\n",
       "      <td>0.0</td>\n",
       "      <td>1.0</td>\n",
       "      <td>away_win,away_win,draw,draw,home_win</td>\n",
       "      <td>1</td>\n",
       "      <td>2</td>\n",
       "      <td>2</td>\n",
       "    </tr>\n",
       "    <tr>\n",
       "      <th>38371</th>\n",
       "      <td>2015-01-04</td>\n",
       "      <td>Iran</td>\n",
       "      <td>Iraq</td>\n",
       "      <td>1</td>\n",
       "      <td>0</td>\n",
       "      <td>Friendly</td>\n",
       "      <td>Wollongong</td>\n",
       "      <td>Australia</td>\n",
       "      <td>True</td>\n",
       "      <td>1.0</td>\n",
       "      <td>...</td>\n",
       "      <td>0.0</td>\n",
       "      <td>home_win</td>\n",
       "      <td>1.0</td>\n",
       "      <td>0.0</td>\n",
       "      <td>0.0</td>\n",
       "      <td>1.0</td>\n",
       "      <td>home_win,home_win,draw,away_win,draw</td>\n",
       "      <td>2</td>\n",
       "      <td>1</td>\n",
       "      <td>2</td>\n",
       "    </tr>\n",
       "    <tr>\n",
       "      <th>38372</th>\n",
       "      <td>2015-01-04</td>\n",
       "      <td>South Korea</td>\n",
       "      <td>Saudi Arabia</td>\n",
       "      <td>2</td>\n",
       "      <td>0</td>\n",
       "      <td>Friendly</td>\n",
       "      <td>Parramatta</td>\n",
       "      <td>Australia</td>\n",
       "      <td>True</td>\n",
       "      <td>2.0</td>\n",
       "      <td>...</td>\n",
       "      <td>0.0</td>\n",
       "      <td>home_win</td>\n",
       "      <td>1.0</td>\n",
       "      <td>0.0</td>\n",
       "      <td>0.0</td>\n",
       "      <td>1.0</td>\n",
       "      <td>home_win,draw,home_win</td>\n",
       "      <td>2</td>\n",
       "      <td>0</td>\n",
       "      <td>1</td>\n",
       "    </tr>\n",
       "    <tr>\n",
       "      <th>38373</th>\n",
       "      <td>2015-01-04</td>\n",
       "      <td>South Africa</td>\n",
       "      <td>Zambia</td>\n",
       "      <td>1</td>\n",
       "      <td>0</td>\n",
       "      <td>Friendly</td>\n",
       "      <td>Johannesburg</td>\n",
       "      <td>South Africa</td>\n",
       "      <td>False</td>\n",
       "      <td>1.0</td>\n",
       "      <td>...</td>\n",
       "      <td>0.0</td>\n",
       "      <td>home_win</td>\n",
       "      <td>1.0</td>\n",
       "      <td>0.0</td>\n",
       "      <td>0.0</td>\n",
       "      <td>1.0</td>\n",
       "      <td>away_win,draw,away_win,away_win,home_win</td>\n",
       "      <td>1</td>\n",
       "      <td>3</td>\n",
       "      <td>1</td>\n",
       "    </tr>\n",
       "    <tr>\n",
       "      <th>38374</th>\n",
       "      <td>2015-01-05</td>\n",
       "      <td>China PR</td>\n",
       "      <td>Oman</td>\n",
       "      <td>4</td>\n",
       "      <td>1</td>\n",
       "      <td>Friendly</td>\n",
       "      <td>Penrith</td>\n",
       "      <td>Australia</td>\n",
       "      <td>True</td>\n",
       "      <td>4.0</td>\n",
       "      <td>...</td>\n",
       "      <td>1.0</td>\n",
       "      <td>home_win</td>\n",
       "      <td>1.0</td>\n",
       "      <td>0.0</td>\n",
       "      <td>0.0</td>\n",
       "      <td>1.0</td>\n",
       "      <td>draw,home_win</td>\n",
       "      <td>1</td>\n",
       "      <td>0</td>\n",
       "      <td>1</td>\n",
       "    </tr>\n",
       "  </tbody>\n",
       "</table>\n",
       "<p>5 rows × 22 columns</p>\n",
       "</div>"
      ],
      "text/plain": [
       "             date     home_team     away_team  home_score  away_score  \\\n",
       "38370  2015-01-04       Bahrain        Jordan           1           0   \n",
       "38371  2015-01-04          Iran          Iraq           1           0   \n",
       "38372  2015-01-04   South Korea  Saudi Arabia           2           0   \n",
       "38373  2015-01-04  South Africa        Zambia           1           0   \n",
       "38374  2015-01-05      China PR          Oman           4           1   \n",
       "\n",
       "      tournament          city       country  neutral  home_team_avg_goals  \\\n",
       "38370   Friendly      Ballarat     Australia     True                  1.0   \n",
       "38371   Friendly    Wollongong     Australia     True                  1.0   \n",
       "38372   Friendly    Parramatta     Australia     True                  2.0   \n",
       "38373   Friendly  Johannesburg  South Africa    False                  1.0   \n",
       "38374   Friendly       Penrith     Australia     True                  4.0   \n",
       "\n",
       "       ...  away_team_avg_goals_10   outcome  home_team_wins home_team_losses  \\\n",
       "38370  ...                     0.0  home_win             1.0              0.0   \n",
       "38371  ...                     0.0  home_win             1.0              0.0   \n",
       "38372  ...                     0.0  home_win             1.0              0.0   \n",
       "38373  ...                     0.0  home_win             1.0              0.0   \n",
       "38374  ...                     1.0  home_win             1.0              0.0   \n",
       "\n",
       "       away_team_wins  away_team_losses  \\\n",
       "38370             0.0               1.0   \n",
       "38371             0.0               1.0   \n",
       "38372             0.0               1.0   \n",
       "38373             0.0               1.0   \n",
       "38374             0.0               1.0   \n",
       "\n",
       "                                 last_5_results  last_5_home_wins  \\\n",
       "38370      away_win,away_win,draw,draw,home_win                 1   \n",
       "38371      home_win,home_win,draw,away_win,draw                 2   \n",
       "38372                    home_win,draw,home_win                 2   \n",
       "38373  away_win,draw,away_win,away_win,home_win                 1   \n",
       "38374                             draw,home_win                 1   \n",
       "\n",
       "      last_5_away_wins  last_5_draws  \n",
       "38370                2             2  \n",
       "38371                1             2  \n",
       "38372                0             1  \n",
       "38373                3             1  \n",
       "38374                0             1  \n",
       "\n",
       "[5 rows x 22 columns]"
      ]
     },
     "execution_count": 2,
     "metadata": {},
     "output_type": "execute_result"
    }
   ],
   "source": [
    "df_filtered.head()"
   ]
  },
  {
   "cell_type": "code",
   "execution_count": 3,
   "metadata": {},
   "outputs": [
    {
     "data": {
      "text/html": [
       "<div>\n",
       "<style scoped>\n",
       "    .dataframe tbody tr th:only-of-type {\n",
       "        vertical-align: middle;\n",
       "    }\n",
       "\n",
       "    .dataframe tbody tr th {\n",
       "        vertical-align: top;\n",
       "    }\n",
       "\n",
       "    .dataframe thead th {\n",
       "        text-align: right;\n",
       "    }\n",
       "</style>\n",
       "<table border=\"1\" class=\"dataframe\">\n",
       "  <thead>\n",
       "    <tr style=\"text-align: right;\">\n",
       "      <th></th>\n",
       "      <th>home_score</th>\n",
       "      <th>away_score</th>\n",
       "      <th>home_team_avg_goals</th>\n",
       "      <th>away_team_avg_goals</th>\n",
       "      <th>home_team_avg_goals_10</th>\n",
       "      <th>away_team_avg_goals_10</th>\n",
       "      <th>home_team_wins</th>\n",
       "      <th>home_team_losses</th>\n",
       "      <th>away_team_wins</th>\n",
       "      <th>away_team_losses</th>\n",
       "      <th>last_5_home_wins</th>\n",
       "      <th>last_5_away_wins</th>\n",
       "      <th>last_5_draws</th>\n",
       "    </tr>\n",
       "  </thead>\n",
       "  <tbody>\n",
       "    <tr>\n",
       "      <th>count</th>\n",
       "      <td>9610.000000</td>\n",
       "      <td>9610.000000</td>\n",
       "      <td>9610.000000</td>\n",
       "      <td>9610.000000</td>\n",
       "      <td>9610.000000</td>\n",
       "      <td>9610.000000</td>\n",
       "      <td>9610.000000</td>\n",
       "      <td>9610.000000</td>\n",
       "      <td>9610.000000</td>\n",
       "      <td>9610.000000</td>\n",
       "      <td>9610.000000</td>\n",
       "      <td>9610.000000</td>\n",
       "      <td>9610.000000</td>\n",
       "    </tr>\n",
       "    <tr>\n",
       "      <th>mean</th>\n",
       "      <td>1.608949</td>\n",
       "      <td>1.106764</td>\n",
       "      <td>1.608314</td>\n",
       "      <td>1.104858</td>\n",
       "      <td>1.609354</td>\n",
       "      <td>1.104071</td>\n",
       "      <td>2.257544</td>\n",
       "      <td>1.363163</td>\n",
       "      <td>1.381374</td>\n",
       "      <td>2.243600</td>\n",
       "      <td>1.162331</td>\n",
       "      <td>0.827784</td>\n",
       "      <td>0.641415</td>\n",
       "    </tr>\n",
       "    <tr>\n",
       "      <th>std</th>\n",
       "      <td>1.635490</td>\n",
       "      <td>1.303887</td>\n",
       "      <td>0.908264</td>\n",
       "      <td>0.729839</td>\n",
       "      <td>0.776783</td>\n",
       "      <td>0.636864</td>\n",
       "      <td>1.311254</td>\n",
       "      <td>1.182862</td>\n",
       "      <td>1.129702</td>\n",
       "      <td>1.315894</td>\n",
       "      <td>1.144688</td>\n",
       "      <td>1.022791</td>\n",
       "      <td>0.837034</td>\n",
       "    </tr>\n",
       "    <tr>\n",
       "      <th>min</th>\n",
       "      <td>0.000000</td>\n",
       "      <td>0.000000</td>\n",
       "      <td>0.000000</td>\n",
       "      <td>0.000000</td>\n",
       "      <td>0.000000</td>\n",
       "      <td>0.000000</td>\n",
       "      <td>0.000000</td>\n",
       "      <td>0.000000</td>\n",
       "      <td>0.000000</td>\n",
       "      <td>0.000000</td>\n",
       "      <td>0.000000</td>\n",
       "      <td>0.000000</td>\n",
       "      <td>0.000000</td>\n",
       "    </tr>\n",
       "    <tr>\n",
       "      <th>25%</th>\n",
       "      <td>0.000000</td>\n",
       "      <td>0.000000</td>\n",
       "      <td>1.000000</td>\n",
       "      <td>0.600000</td>\n",
       "      <td>1.100000</td>\n",
       "      <td>0.700000</td>\n",
       "      <td>1.000000</td>\n",
       "      <td>0.000000</td>\n",
       "      <td>1.000000</td>\n",
       "      <td>1.000000</td>\n",
       "      <td>0.000000</td>\n",
       "      <td>0.000000</td>\n",
       "      <td>0.000000</td>\n",
       "    </tr>\n",
       "    <tr>\n",
       "      <th>50%</th>\n",
       "      <td>1.000000</td>\n",
       "      <td>1.000000</td>\n",
       "      <td>1.400000</td>\n",
       "      <td>1.000000</td>\n",
       "      <td>1.500000</td>\n",
       "      <td>1.000000</td>\n",
       "      <td>2.000000</td>\n",
       "      <td>1.000000</td>\n",
       "      <td>1.000000</td>\n",
       "      <td>2.000000</td>\n",
       "      <td>1.000000</td>\n",
       "      <td>1.000000</td>\n",
       "      <td>0.000000</td>\n",
       "    </tr>\n",
       "    <tr>\n",
       "      <th>75%</th>\n",
       "      <td>2.000000</td>\n",
       "      <td>2.000000</td>\n",
       "      <td>2.000000</td>\n",
       "      <td>1.400000</td>\n",
       "      <td>2.000000</td>\n",
       "      <td>1.400000</td>\n",
       "      <td>3.000000</td>\n",
       "      <td>2.000000</td>\n",
       "      <td>2.000000</td>\n",
       "      <td>3.000000</td>\n",
       "      <td>2.000000</td>\n",
       "      <td>1.000000</td>\n",
       "      <td>1.000000</td>\n",
       "    </tr>\n",
       "    <tr>\n",
       "      <th>max</th>\n",
       "      <td>15.000000</td>\n",
       "      <td>14.000000</td>\n",
       "      <td>9.000000</td>\n",
       "      <td>12.000000</td>\n",
       "      <td>9.000000</td>\n",
       "      <td>12.000000</td>\n",
       "      <td>5.000000</td>\n",
       "      <td>5.000000</td>\n",
       "      <td>5.000000</td>\n",
       "      <td>5.000000</td>\n",
       "      <td>5.000000</td>\n",
       "      <td>5.000000</td>\n",
       "      <td>5.000000</td>\n",
       "    </tr>\n",
       "  </tbody>\n",
       "</table>\n",
       "</div>"
      ],
      "text/plain": [
       "        home_score   away_score  home_team_avg_goals  away_team_avg_goals  \\\n",
       "count  9610.000000  9610.000000          9610.000000          9610.000000   \n",
       "mean      1.608949     1.106764             1.608314             1.104858   \n",
       "std       1.635490     1.303887             0.908264             0.729839   \n",
       "min       0.000000     0.000000             0.000000             0.000000   \n",
       "25%       0.000000     0.000000             1.000000             0.600000   \n",
       "50%       1.000000     1.000000             1.400000             1.000000   \n",
       "75%       2.000000     2.000000             2.000000             1.400000   \n",
       "max      15.000000    14.000000             9.000000            12.000000   \n",
       "\n",
       "       home_team_avg_goals_10  away_team_avg_goals_10  home_team_wins  \\\n",
       "count             9610.000000             9610.000000     9610.000000   \n",
       "mean                 1.609354                1.104071        2.257544   \n",
       "std                  0.776783                0.636864        1.311254   \n",
       "min                  0.000000                0.000000        0.000000   \n",
       "25%                  1.100000                0.700000        1.000000   \n",
       "50%                  1.500000                1.000000        2.000000   \n",
       "75%                  2.000000                1.400000        3.000000   \n",
       "max                  9.000000               12.000000        5.000000   \n",
       "\n",
       "       home_team_losses  away_team_wins  away_team_losses  last_5_home_wins  \\\n",
       "count       9610.000000     9610.000000       9610.000000       9610.000000   \n",
       "mean           1.363163        1.381374          2.243600          1.162331   \n",
       "std            1.182862        1.129702          1.315894          1.144688   \n",
       "min            0.000000        0.000000          0.000000          0.000000   \n",
       "25%            0.000000        1.000000          1.000000          0.000000   \n",
       "50%            1.000000        1.000000          2.000000          1.000000   \n",
       "75%            2.000000        2.000000          3.000000          2.000000   \n",
       "max            5.000000        5.000000          5.000000          5.000000   \n",
       "\n",
       "       last_5_away_wins  last_5_draws  \n",
       "count       9610.000000   9610.000000  \n",
       "mean           0.827784      0.641415  \n",
       "std            1.022791      0.837034  \n",
       "min            0.000000      0.000000  \n",
       "25%            0.000000      0.000000  \n",
       "50%            1.000000      0.000000  \n",
       "75%            1.000000      1.000000  \n",
       "max            5.000000      5.000000  "
      ]
     },
     "execution_count": 3,
     "metadata": {},
     "output_type": "execute_result"
    }
   ],
   "source": [
    "df_filtered.describe()"
   ]
  },
  {
   "cell_type": "code",
   "execution_count": 4,
   "metadata": {},
   "outputs": [
    {
     "name": "stdout",
     "output_type": "stream",
     "text": [
      "<class 'pandas.core.frame.DataFrame'>\n",
      "Index: 9610 entries, 38370 to 47979\n",
      "Data columns (total 22 columns):\n",
      " #   Column                  Non-Null Count  Dtype  \n",
      "---  ------                  --------------  -----  \n",
      " 0   date                    9610 non-null   object \n",
      " 1   home_team               9610 non-null   object \n",
      " 2   away_team               9610 non-null   object \n",
      " 3   home_score              9610 non-null   int64  \n",
      " 4   away_score              9610 non-null   int64  \n",
      " 5   tournament              9610 non-null   object \n",
      " 6   city                    9610 non-null   object \n",
      " 7   country                 9610 non-null   object \n",
      " 8   neutral                 9610 non-null   bool   \n",
      " 9   home_team_avg_goals     9610 non-null   float64\n",
      " 10  away_team_avg_goals     9610 non-null   float64\n",
      " 11  home_team_avg_goals_10  9610 non-null   float64\n",
      " 12  away_team_avg_goals_10  9610 non-null   float64\n",
      " 13  outcome                 9610 non-null   object \n",
      " 14  home_team_wins          9610 non-null   float64\n",
      " 15  home_team_losses        9610 non-null   float64\n",
      " 16  away_team_wins          9610 non-null   float64\n",
      " 17  away_team_losses        9610 non-null   float64\n",
      " 18  last_5_results          9610 non-null   object \n",
      " 19  last_5_home_wins        9610 non-null   int64  \n",
      " 20  last_5_away_wins        9610 non-null   int64  \n",
      " 21  last_5_draws            9610 non-null   int64  \n",
      "dtypes: bool(1), float64(8), int64(5), object(8)\n",
      "memory usage: 1.9+ MB\n"
     ]
    }
   ],
   "source": [
    "df_filtered.info()"
   ]
  },
  {
   "cell_type": "code",
   "execution_count": 5,
   "metadata": {},
   "outputs": [
    {
     "data": {
      "image/png": "[encoded data removed]",
      "text/plain": [
       "<Figure size 800x800 with 1 Axes>"
      ]
     },
     "metadata": {},
     "output_type": "display_data"
    },
    {
     "data": {
      "image/png": "[encoded data removed]",
      "text/plain": [
       "<Figure size 1200x600 with 1 Axes>"
      ]
     },
     "metadata": {},
     "output_type": "display_data"
    },
    {
     "data": {
      "application/vnd.plotly.v1+json": {
       "config": {
        "plotlyServerURL": "https://plot.ly"
       },
       "data": [
        {
         "coloraxis": "coloraxis",
         "geo": "geo",
         "hovertemplate": "country=%{location}<br>matches=%{z}<extra></extra>",
         "locationmode": "country names",
         "locations": [
          "United States",
          "Qatar",
          "South Africa",
          "United Arab Emirates",
          "Morocco",
          "France",
          "England",
          "Russia",
          "Germany",
          "Egypt",
          "Austria",
          "Spain",
          "Turkey",
          "Portugal",
          "Hungary",
          "Cameroon",
          "Ivory Coast",
          "Malaysia",
          "Sweden",
          "Brazil",
          "Georgia",
          "Thailand",
          "Japan",
          "Saudi Arabia",
          "India",
          "Singapore",
          "Kuwait",
          "Bahrain",
          "Italy",
          "Switzerland",
          "Poland",
          "Australia",
          "Wales",
          "Chile",
          "Netherlands",
          "Azerbaijan",
          "South Korea",
          "Belgium",
          "Gabon",
          "Equatorial Guinea",
          "Tunisia",
          "China PR",
          "Denmark",
          "Jordan",
          "Republic of Ireland",
          "Luxembourg",
          "Ethiopia",
          "Romania",
          "Iraq",
          "Dominican Republic",
          "Malta",
          "Uzbekistan",
          "Scotland",
          "Albania",
          "Norway",
          "Curaçao",
          "Indonesia",
          "Kenya",
          "Algeria",
          "Iran",
          "North Macedonia",
          "Vietnam",
          "Slovakia",
          "Cambodia",
          "Estonia",
          "Czech Republic",
          "Slovenia",
          "Montenegro",
          "Croatia",
          "Panama",
          "Cyprus",
          "Bangladesh",
          "Northern Ireland",
          "Oman",
          "Latvia",
          "Bosnia and Herzegovina",
          "Greece",
          "Peru",
          "Andorra",
          "Armenia",
          "Serbia",
          "Lithuania",
          "Finland",
          "Myanmar",
          "Moldova",
          "Tanzania",
          "Trinidad and Tobago",
          "Jersey",
          "Kazakhstan",
          "Rwanda",
          "Vanuatu",
          "Bulgaria",
          "Grenada",
          "Namibia",
          "Saint Kitts and Nevis",
          "Hong Kong",
          "Nicaragua",
          "Iceland",
          "San Marino",
          "Honduras",
          "Israel",
          "Ukraine",
          "Faroe Islands",
          "Kosovo",
          "Philippines",
          "Liechtenstein",
          "Costa Rica",
          "Senegal",
          "Kyrgyzstan",
          "Taiwan",
          "Jamaica",
          "Mauritius",
          "Guernsey",
          "Solomon Islands",
          "Argentina",
          "Zambia",
          "Mauritania",
          "Uganda",
          "Nigeria",
          "Ecuador",
          "Tajikistan",
          "Uruguay",
          "Barbados",
          "Bolivia",
          "Ghana",
          "Madagascar",
          "Gibraltar",
          "Laos",
          "El Salvador",
          "Guatemala",
          "Mozambique",
          "Mexico",
          "Botswana",
          "Paraguay",
          "Venezuela",
          "Togo",
          "Angola",
          "Maldives",
          "Mali",
          "Belize",
          "Congo",
          "Antigua and Barbuda",
          "Suriname",
          "Fiji",
          "Canada",
          "Belarus",
          "Samoa",
          "Colombia",
          "Anguilla",
          "Saint Vincent and the Grenadines",
          "Malawi",
          "DR Congo",
          "Cape Verde",
          "Martinique",
          "Benin",
          "Bermuda",
          "Puerto Rico",
          "Comoros",
          "Liberia",
          "Saint Lucia",
          "Lebanon",
          "Niger",
          "Mongolia",
          "Papua New Guinea",
          "Guadeloupe",
          "Sri Lanka",
          "Guinea-Bissau",
          "Sudan",
          "Zimbabwe",
          "Northern Cyprus",
          "United States Virgin Islands",
          "Nepal",
          "Cayman Islands",
          "French Guiana",
          "Libya",
          "Bahamas",
          "Gambia",
          "Turks and Caicos Islands",
          "Bhutan",
          "Guinea",
          "Guyana",
          "Cuba",
          "Lesotho",
          "Burundi",
          "Burkina Faso",
          "Réunion",
          "Turkmenistan",
          "Brunei",
          "Macau",
          "New Zealand",
          "Haiti",
          "South Sudan",
          "Guam",
          "Dominica",
          "New Caledonia",
          "Aruba",
          "Seychelles",
          "Palestine",
          "Montserrat",
          "Djibouti",
          "Tonga",
          "São Tomé and Príncipe",
          "Tahiti",
          "Central African Republic",
          "North Korea",
          "British Virgin Islands",
          "Bonaire",
          "Chad",
          "Alderney",
          "Eswatini",
          "Saint Barthélemy",
          "Swaziland",
          "Pakistan",
          "Sierra Leone",
          "Timor-Leste",
          "Isle of Man",
          "Sint Maarten",
          "Eritrea",
          "Northern Mariana Islands",
          "Monaco",
          "Saint Martin"
         ],
         "name": "",
         "type": "choropleth",
         "z": {
          "bdata": "wwEwAfgA3wChAJ0AjQCJAHYAdgBuAGsAZwBlAGIAYQBgAFwAVgBSAFAATwBOAEwASgBJAEkASQBHAEYARgBFAEQAQABAAD8APgA+ADwAOwA6ADoAOQA4ADcANgA2ADYANgA2ADUANAAzADMAMgAyADIAMgAyADIAMQAxADEAMQAwAC8ALwAuAC4ALgAtAC0ALQAsACwAKwAqACoAKgAqACkAKQApACkAKAAnACcAJwAmACYAJgAmACYAJgAlACUAJQAlACUAJAAkACQAJAAkACMAIwAiACIAIgAiACIAIgAhACEAIAAgACAAHwAfAB8AHwAfAB4AHgAeAB0AHQAdAB0AHQAcABwAHAAcABwAHAAbABsAGwAaABoAGgAaABoAGgAZABkAGQAZABkAGQAZABgAGAAYABYAFgAWABYAFgAWABUAFQAVABQAEwATABMAEgASABIAEgARABEAEAAQABAADwAPAA8ADwAOAA4ADgAOAA0ADQANAAwADAAMAAwADAAMAAoACgAKAAoACQAJAAkACQAIAAgACAAIAAcABwAHAAcABgAGAAUABQAEAAQABAACAAIAAQABAA==",
          "dtype": "i2"
         }
        }
       ],
       "layout": {
        "coloraxis": {
         "colorbar": {
          "title": {
           "text": "matches"
          }
         },
         "colorscale": [
          [
           0,
           "#0d0887"
          ],
          [
           0.1111111111111111,
           "#46039f"
          ],
          [
           0.2222222222222222,
           "#7201a8"
          ],
          [
           0.3333333333333333,
           "#9c179e"
          ],
          [
           0.4444444444444444,
           "#bd3786"
          ],
          [
           0.5555555555555556,
           "#d8576b"
          ],
          [
           0.6666666666666666,
           "#ed7953"
          ],
          [
           0.7777777777777778,
           "#fb9f3a"
          ],
          [
           0.8888888888888888,
           "#fdca26"
          ],
          [
           1,
           "#f0f921"
          ]
         ]
        },
        "geo": {
         "center": {},
         "domain": {
          "x": [
           0,
           1
          ],
          "y": [
           0,
           1
          ]
         }
        },
        "legend": {
         "tracegroupgap": 0
        },
        "template": {
         "data": {
          "bar": [
           {
            "error_x": {
             "color": "#2a3f5f"
            },
            "error_y": {
             "color": "#2a3f5f"
            },
            "marker": {
             "line": {
              "color": "#E5ECF6",
              "width": 0.5
             },
             "pattern": {
              "fillmode": "overlay",
              "size": 10,
              "solidity": 0.2
             }
            },
            "type": "bar"
           }
          ],
          "barpolar": [
           {
            "marker": {
             "line": {
              "color": "#E5ECF6",
              "width": 0.5
             },
             "pattern": {
              "fillmode": "overlay",
              "size": 10,
              "solidity": 0.2
             }
            },
            "type": "barpolar"
           }
          ],
          "carpet": [
           {
            "aaxis": {
             "endlinecolor": "#2a3f5f",
             "gridcolor": "white",
             "linecolor": "white",
             "minorgridcolor": "white",
             "startlinecolor": "#2a3f5f"
            },
            "baxis": {
             "endlinecolor": "#2a3f5f",
             "gridcolor": "white",
             "linecolor": "white",
             "minorgridcolor": "white",
             "startlinecolor": "#2a3f5f"
            },
            "type": "carpet"
           }
          ],
          "choropleth": [
           {
            "colorbar": {
             "outlinewidth": 0,
             "ticks": ""
            },
            "type": "choropleth"
           }
          ],
          "contour": [
           {
            "colorbar": {
             "outlinewidth": 0,
             "ticks": ""
            },
            "colorscale": [
             [
              0,
              "#0d0887"
             ],
             [
              0.1111111111111111,
              "#46039f"
             ],
             [
              0.2222222222222222,
              "#7201a8"
             ],
             [
              0.3333333333333333,
              "#9c179e"
             ],
             [
              0.4444444444444444,
              "#bd3786"
             ],
             [
              0.5555555555555556,
              "#d8576b"
             ],
             [
              0.6666666666666666,
              "#ed7953"
             ],
             [
              0.7777777777777778,
              "#fb9f3a"
             ],
             [
              0.8888888888888888,
              "#fdca26"
             ],
             [
              1,
              "#f0f921"
             ]
            ],
            "type": "contour"
           }
          ],
          "contourcarpet": [
           {
            "colorbar": {
             "outlinewidth": 0,
             "ticks": ""
            },
            "type": "contourcarpet"
           }
          ],
          "heatmap": [
           {
            "colorbar": {
             "outlinewidth": 0,
             "ticks": ""
            },
            "colorscale": [
             [
              0,
              "#0d0887"
             ],
             [
              0.1111111111111111,
              "#46039f"
             ],
             [
              0.2222222222222222,
              "#7201a8"
             ],
             [
              0.3333333333333333,
              "#9c179e"
             ],
             [
              0.4444444444444444,
              "#bd3786"
             ],
             [
              0.5555555555555556,
              "#d8576b"
             ],
             [
              0.6666666666666666,
              "#ed7953"
             ],
             [
              0.7777777777777778,
              "#fb9f3a"
             ],
             [
              0.8888888888888888,
              "#fdca26"
             ],
             [
              1,
              "#f0f921"
             ]
            ],
            "type": "heatmap"
           }
          ],
          "histogram": [
           {
            "marker": {
             "pattern": {
              "fillmode": "overlay",
              "size": 10,
              "solidity": 0.2
             }
            },
            "type": "histogram"
           }
          ],
          "histogram2d": [
           {
            "colorbar": {
             "outlinewidth": 0,
             "ticks": ""
            },
            "colorscale": [
             [
              0,
              "#0d0887"
             ],
             [
              0.1111111111111111,
              "#46039f"
             ],
             [
              0.2222222222222222,
              "#7201a8"
             ],
             [
              0.3333333333333333,
              "#9c179e"
             ],
             [
              0.4444444444444444,
              "#bd3786"
             ],
             [
              0.5555555555555556,
              "#d8576b"
             ],
             [
              0.6666666666666666,
              "#ed7953"
             ],
             [
              0.7777777777777778,
              "#fb9f3a"
             ],
             [
              0.8888888888888888,
              "#fdca26"
             ],
             [
              1,
              "#f0f921"
             ]
            ],
            "type": "histogram2d"
           }
          ],
          "histogram2dcontour": [
           {
            "colorbar": {
             "outlinewidth": 0,
             "ticks": ""
            },
            "colorscale": [
             [
              0,
              "#0d0887"
             ],
             [
              0.1111111111111111,
              "#46039f"
             ],
             [
              0.2222222222222222,
              "#7201a8"
             ],
             [
              0.3333333333333333,
              "#9c179e"
             ],
             [
              0.4444444444444444,
              "#bd3786"
             ],
             [
              0.5555555555555556,
              "#d8576b"
             ],
             [
              0.6666666666666666,
              "#ed7953"
             ],
             [
              0.7777777777777778,
              "#fb9f3a"
             ],
             [
              0.8888888888888888,
              "#fdca26"
             ],
             [
              1,
              "#f0f921"
             ]
            ],
            "type": "histogram2dcontour"
           }
          ],
          "mesh3d": [
           {
            "colorbar": {
             "outlinewidth": 0,
             "ticks": ""
            },
            "type": "mesh3d"
           }
          ],
          "parcoords": [
           {
            "line": {
             "colorbar": {
              "outlinewidth": 0,
              "ticks": ""
             }
            },
            "type": "parcoords"
           }
          ],
          "pie": [
           {
            "automargin": true,
            "type": "pie"
           }
          ],
          "scatter": [
           {
            "fillpattern": {
             "fillmode": "overlay",
             "size": 10,
             "solidity": 0.2
            },
            "type": "scatter"
           }
          ],
          "scatter3d": [
           {
            "line": {
             "colorbar": {
              "outlinewidth": 0,
              "ticks": ""
             }
            },
            "marker": {
             "colorbar": {
              "outlinewidth": 0,
              "ticks": ""
             }
            },
            "type": "scatter3d"
           }
          ],
          "scattercarpet": [
           {
            "marker": {
             "colorbar": {
              "outlinewidth": 0,
              "ticks": ""
             }
            },
            "type": "scattercarpet"
           }
          ],
          "scattergeo": [
           {
            "marker": {
             "colorbar": {
              "outlinewidth": 0,
              "ticks": ""
             }
            },
            "type": "scattergeo"
           }
          ],
          "scattergl": [
           {
            "marker": {
             "colorbar": {
              "outlinewidth": 0,
              "ticks": ""
             }
            },
            "type": "scattergl"
           }
          ],
          "scattermap": [
           {
            "marker": {
             "colorbar": {
              "outlinewidth": 0,
              "ticks": ""
             }
            },
            "type": "scattermap"
           }
          ],
          "scattermapbox": [
           {
            "marker": {
             "colorbar": {
              "outlinewidth": 0,
              "ticks": ""
             }
            },
            "type": "scattermapbox"
           }
          ],
          "scatterpolar": [
           {
            "marker": {
             "colorbar": {
              "outlinewidth": 0,
              "ticks": ""
             }
            },
            "type": "scatterpolar"
           }
          ],
          "scatterpolargl": [
           {
            "marker": {
             "colorbar": {
              "outlinewidth": 0,
              "ticks": ""
             }
            },
            "type": "scatterpolargl"
           }
          ],
          "scatterternary": [
           {
            "marker": {
             "colorbar": {
              "outlinewidth": 0,
              "ticks": ""
             }
            },
            "type": "scatterternary"
           }
          ],
          "surface": [
           {
            "colorbar": {
             "outlinewidth": 0,
             "ticks": ""
            },
            "colorscale": [
             [
              0,
              "#0d0887"
             ],
             [
              0.1111111111111111,
              "#46039f"
             ],
             [
              0.2222222222222222,
              "#7201a8"
             ],
             [
              0.3333333333333333,
              "#9c179e"
             ],
             [
              0.4444444444444444,
              "#bd3786"
             ],
             [
              0.5555555555555556,
              "#d8576b"
             ],
             [
              0.6666666666666666,
              "#ed7953"
             ],
             [
              0.7777777777777778,
              "#fb9f3a"
             ],
             [
              0.8888888888888888,
              "#fdca26"
             ],
             [
              1,
              "#f0f921"
             ]
            ],
            "type": "surface"
           }
          ],
          "table": [
           {
            "cells": {
             "fill": {
              "color": "#EBF0F8"
             },
             "line": {
              "color": "white"
             }
            },
            "header": {
             "fill": {
              "color": "#C8D4E3"
             },
             "line": {
              "color": "white"
             }
            },
            "type": "table"
           }
          ]
         },
         "layout": {
          "annotationdefaults": {
           "arrowcolor": "#2a3f5f",
           "arrowhead": 0,
           "arrowwidth": 1
          },
          "autotypenumbers": "strict",
          "coloraxis": {
           "colorbar": {
            "outlinewidth": 0,
            "ticks": ""
           }
          },
          "colorscale": {
           "diverging": [
            [
             0,
             "#8e0152"
            ],
            [
             0.1,
             "#c51b7d"
            ],
            [
             0.2,
             "#de77ae"
            ],
            [
             0.3,
             "#f1b6da"
            ],
            [
             0.4,
             "#fde0ef"
            ],
            [
             0.5,
             "#f7f7f7"
            ],
            [
             0.6,
             "#e6f5d0"
            ],
            [
             0.7,
             "#b8e186"
            ],
            [
             0.8,
             "#7fbc41"
            ],
            [
             0.9,
             "#4d9221"
            ],
            [
             1,
             "#276419"
            ]
           ],
           "sequential": [
            [
             0,
             "#0d0887"
            ],
            [
             0.1111111111111111,
             "#46039f"
            ],
            [
             0.2222222222222222,
             "#7201a8"
            ],
            [
             0.3333333333333333,
             "#9c179e"
            ],
            [
             0.4444444444444444,
             "#bd3786"
            ],
            [
             0.5555555555555556,
             "#d8576b"
            ],
            [
             0.6666666666666666,
             "#ed7953"
            ],
            [
             0.7777777777777778,
             "#fb9f3a"
            ],
            [
             0.8888888888888888,
             "#fdca26"
            ],
            [
             1,
             "#f0f921"
            ]
           ],
           "sequentialminus": [
            [
             0,
             "#0d0887"
            ],
            [
             0.1111111111111111,
             "#46039f"
            ],
            [
             0.2222222222222222,
             "#7201a8"
            ],
            [
             0.3333333333333333,
             "#9c179e"
            ],
            [
             0.4444444444444444,
             "#bd3786"
            ],
            [
             0.5555555555555556,
             "#d8576b"
            ],
            [
             0.6666666666666666,
             "#ed7953"
            ],
            [
             0.7777777777777778,
             "#fb9f3a"
            ],
            [
             0.8888888888888888,
             "#fdca26"
            ],
            [
             1,
             "#f0f921"
            ]
           ]
          },
          "colorway": [
           "#636efa",
           "#EF553B",
           "#00cc96",
           "#ab63fa",
           "#FFA15A",
           "#19d3f3",
           "#FF6692",
           "#B6E880",
           "#FF97FF",
           "#FECB52"
          ],
          "font": {
           "color": "#2a3f5f"
          },
          "geo": {
           "bgcolor": "white",
           "lakecolor": "white",
           "landcolor": "#E5ECF6",
           "showlakes": true,
           "showland": true,
           "subunitcolor": "white"
          },
          "hoverlabel": {
           "align": "left"
          },
          "hovermode": "closest",
          "mapbox": {
           "style": "light"
          },
          "paper_bgcolor": "white",
          "plot_bgcolor": "#E5ECF6",
          "polar": {
           "angularaxis": {
            "gridcolor": "white",
            "linecolor": "white",
            "ticks": ""
           },
           "bgcolor": "#E5ECF6",
           "radialaxis": {
            "gridcolor": "white",
            "linecolor": "white",
            "ticks": ""
           }
          },
          "scene": {
           "xaxis": {
            "backgroundcolor": "#E5ECF6",
            "gridcolor": "white",
            "gridwidth": 2,
            "linecolor": "white",
            "showbackground": true,
            "ticks": "",
            "zerolinecolor": "white"
           },
           "yaxis": {
            "backgroundcolor": "#E5ECF6",
            "gridcolor": "white",
            "gridwidth": 2,
            "linecolor": "white",
            "showbackground": true,
            "ticks": "",
            "zerolinecolor": "white"
           },
           "zaxis": {
            "backgroundcolor": "#E5ECF6",
            "gridcolor": "white",
            "gridwidth": 2,
            "linecolor": "white",
            "showbackground": true,
            "ticks": "",
            "zerolinecolor": "white"
           }
          },
          "shapedefaults": {
           "line": {
            "color": "#2a3f5f"
           }
          },
          "ternary": {
           "aaxis": {
            "gridcolor": "white",
            "linecolor": "white",
            "ticks": ""
           },
           "baxis": {
            "gridcolor": "white",
            "linecolor": "white",
            "ticks": ""
           },
           "bgcolor": "#E5ECF6",
           "caxis": {
            "gridcolor": "white",
            "linecolor": "white",
            "ticks": ""
           }
          },
          "title": {
           "x": 0.05
          },
          "xaxis": {
           "automargin": true,
           "gridcolor": "white",
           "linecolor": "white",
           "ticks": "",
           "title": {
            "standoff": 15
           },
           "zerolinecolor": "white",
           "zerolinewidth": 2
          },
          "yaxis": {
           "automargin": true,
           "gridcolor": "white",
           "linecolor": "white",
           "ticks": "",
           "title": {
            "standoff": 15
           },
           "zerolinecolor": "white",
           "zerolinewidth": 2
          }
         }
        },
        "title": {
         "text": "Количество матчей по странам"
        }
       }
      }
     },
     "metadata": {},
     "output_type": "display_data"
    },
    {
     "data": {
      "image/png": "[encoded data removed]",
      "text/plain": [
       "<Figure size 800x600 with 1 Axes>"
      ]
     },
     "metadata": {},
     "output_type": "display_data"
    }
   ],
   "source": [
    "visualizer = dv.DataVisualizer(df_filtered)\n",
    "\n",
    "# Вызов функций для визуализации\n",
    "visualizer.plot_match_outcomes(home_score_col='home_score', away_score_col='away_score')\n",
    "visualizer.plot_goals_by_year(date_col='date', home_score_col='home_score', away_score_col='away_score')\n",
    "visualizer.plot_matches_by_country(country_col='country')\n",
    "visualizer.plot_neutral_fields(neutral_col='neutral')"
   ]
  },
  {
   "cell_type": "code",
   "execution_count": 6,
   "metadata": {},
   "outputs": [
    {
     "name": "stdout",
     "output_type": "stream",
     "text": [
      "Gradient Boosting Accuracy: 0.88\n",
      "Gradient Boosting Classification Report:\n",
      "              precision    recall  f1-score   support\n",
      "\n",
      "    away_win       0.88      0.88      0.88       540\n",
      "        draw       0.77      0.89      0.83       433\n",
      "    home_win       0.95      0.88      0.92       949\n",
      "\n",
      "    accuracy                           0.88      1922\n",
      "   macro avg       0.87      0.88      0.87      1922\n",
      "weighted avg       0.89      0.88      0.89      1922\n",
      "\n"
     ]
    }
   ],
   "source": [
    "#Классификатор градиентного бустинг\n",
    "try:\n",
    "    model, label_encoders = train_and_prepare_model(df_filtered)\n",
    "except Exception as e:\n",
    "    logger.exception(f\"Ошибка обучения модели: {e}\") \n",
    "  \n",
    " "
   ]
  },
  {
   "cell_type": "code",
   "execution_count": 7,
   "metadata": {},
   "outputs": [
    {
     "name": "stdout",
     "output_type": "stream",
     "text": [
      "Предсказанный исход матча Turkey vs Hungary: Победа гостевой команды\n"
     ]
    }
   ],
   "source": [
    "# Пример данных для предсказания использую будущий матч Классификатор градиентного бустинг\n",
    "date = '2025-03-20'\n",
    "home_team = 'Turkey'\n",
    "away_team = 'Hungary'\n",
    "home_score = None  \n",
    "away_score = None  \n",
    "tournament = 'UEFA Nations League'\n",
    "city = 'Istanbul'\n",
    "country = 'Turkey'\n",
    "neutral = False\n",
    "\n",
    "try:\n",
    "    result = predict_match_outcome(date, home_team, away_team, home_score, away_score, tournament, city, country, neutral, model, label_encoders, df_filtered_pr)\n",
    "    print(f\"Предсказанный исход матча {home_team} vs {away_team}: {result}\")\n",
    "except Exception as e:\n",
    "    logger.exception(f\"Ошибка моделирования предсказания матча: {e}\") "
   ]
  },
  {
   "cell_type": "code",
   "execution_count": 8,
   "metadata": {},
   "outputs": [
    {
     "name": "stdout",
     "output_type": "stream",
     "text": [
      "AdaBoost Accuracy: 0.88\n",
      "AdaBoost Classification Report:\n",
      "              precision    recall  f1-score   support\n",
      "\n",
      "    away_win       0.87      0.89      0.88       540\n",
      "        draw       0.79      0.84      0.82       433\n",
      "    home_win       0.93      0.90      0.92       949\n",
      "\n",
      "    accuracy                           0.88      1922\n",
      "   macro avg       0.87      0.88      0.87      1922\n",
      "weighted avg       0.88      0.88      0.88      1922\n",
      "\n"
     ]
    }
   ],
   "source": [
    "#AdaBoost\n",
    "try:\n",
    "    ada_model, label_encoders = adaboost_model(df_filtered)\n",
    "except Exception as e:\n",
    "    logger.exception(f\"Ошибка обучения модели: {e}\") "
   ]
  },
  {
   "cell_type": "code",
   "execution_count": 9,
   "metadata": {},
   "outputs": [
    {
     "name": "stdout",
     "output_type": "stream",
     "text": [
      "Предсказанный исход матча Turkey vs Hungary: Победа гостевой команды\n"
     ]
    }
   ],
   "source": [
    "# Пример данных для предсказания использую будущий матч AdaBoost\n",
    "date = '2025-03-20'\n",
    "home_team = 'Turkey'\n",
    "away_team = 'Hungary'\n",
    "home_score = None  \n",
    "away_score = None  \n",
    "tournament = 'UEFA Nations League'\n",
    "city = 'Istanbul'\n",
    "country = 'Turkey'\n",
    "neutral = False\n",
    "\n",
    "try:\n",
    "    result = predict_match_outcome(date, home_team, away_team, home_score, away_score, tournament, city, country, neutral, ada_model, label_encoders, df_filtered_pr)\n",
    "    print(f\"Предсказанный исход матча {home_team} vs {away_team}: {result}\")\n",
    "except Exception as e:\n",
    "    logger.exception(f\"Ошибка моделирования предсказания матча: {e}\") "
   ]
  },
  {
   "cell_type": "code",
   "execution_count": 10,
   "metadata": {},
   "outputs": [
    {
     "name": "stdout",
     "output_type": "stream",
     "text": [
      "[LightGBM] [Info] Auto-choosing col-wise multi-threading, the overhead of testing was 0.000384 seconds.\n",
      "You can set `force_col_wise=true` to remove the overhead.\n",
      "[LightGBM] [Info] Total Bins 1349\n",
      "[LightGBM] [Info] Number of data points in the train set: 7688, number of used features: 17\n",
      "[LightGBM] [Info] Start training from score -1.220762\n",
      "[LightGBM] [Info] Start training from score -1.459122\n",
      "[LightGBM] [Info] Start training from score -0.749602\n",
      "Accuracy: 0.89\n",
      "LightGBM Classification Report:\n",
      "              precision    recall  f1-score   support\n",
      "\n",
      "    away_win       0.89      0.89      0.89       540\n",
      "        draw       0.82      0.82      0.82       433\n",
      "    home_win       0.92      0.92      0.92       949\n",
      "\n",
      "    accuracy                           0.89      1922\n",
      "   macro avg       0.88      0.88      0.88      1922\n",
      "weighted avg       0.89      0.89      0.89      1922\n",
      "\n"
     ]
    }
   ],
   "source": [
    "#LightGBM\n",
    "try:\n",
    "    model_tm, label_encoders = lightgbm_train_model(df_filtered)\n",
    "except Exception as e:\n",
    "    logger.exception(f\"Ошибка обучения модели: {e}\") "
   ]
  },
  {
   "cell_type": "code",
   "execution_count": 11,
   "metadata": {},
   "outputs": [
    {
     "name": "stdout",
     "output_type": "stream",
     "text": [
      "Предсказанный исход матча Turkey vs Hungary: Победа гостевой команды\n"
     ]
    }
   ],
   "source": [
    "# Пример данных для предсказания использую будущий матч LightGBM\n",
    "date = '2025-03-20'\n",
    "home_team = 'Turkey'\n",
    "away_team = 'Hungary'\n",
    "home_score = None  \n",
    "away_score = None  \n",
    "tournament = 'UEFA Nations League'\n",
    "city = 'Istanbul'\n",
    "country = 'Turkey'\n",
    "neutral = False\n",
    "\n",
    "try:\n",
    "    result = predict_match_outcome(date, home_team, away_team, home_score, away_score, tournament, city, country, neutral, model_tm, label_encoders, df_filtered_pr)\n",
    "    print(f\"Предсказанный исход матча {home_team} vs {away_team}: {result}\")\n",
    "except Exception as e:\n",
    "    logger.exception(f\"Ошибка моделирования предсказания матча: {e}\") "
   ]
  },
  {
   "cell_type": "code",
   "execution_count": 12,
   "metadata": {},
   "outputs": [
    {
     "name": "stdout",
     "output_type": "stream",
     "text": [
      "Extra Trees Accuracy: 0.89\n",
      "Extra Trees Classification Report:\n",
      "              precision    recall  f1-score   support\n",
      "\n",
      "    away_win       0.89      0.89      0.89       540\n",
      "        draw       0.83      0.82      0.82       433\n",
      "    home_win       0.92      0.92      0.92       949\n",
      "\n",
      "    accuracy                           0.89      1922\n",
      "   macro avg       0.88      0.88      0.88      1922\n",
      "weighted avg       0.89      0.89      0.89      1922\n",
      "\n"
     ]
    }
   ],
   "source": [
    "#Extra Trees\n",
    "try:\n",
    "    model_ets, label_encoders = train_et_model(df_filtered)\n",
    "except Exception as e:\n",
    "    logger.exception(f\"Ошибка обучения модели: {e}\") "
   ]
  },
  {
   "cell_type": "code",
   "execution_count": 13,
   "metadata": {},
   "outputs": [
    {
     "name": "stdout",
     "output_type": "stream",
     "text": [
      "Предсказанный исход матча Turkey vs Hungary: Победа гостевой команды\n"
     ]
    }
   ],
   "source": [
    "# Пример данных для предсказания использую будущий матч Extra Trees\n",
    "date = '2025-03-20'\n",
    "home_team = 'Turkey'\n",
    "away_team = 'Hungary'\n",
    "home_score = None  \n",
    "away_score = None  \n",
    "tournament = 'UEFA Nations League'\n",
    "city = 'Istanbul'\n",
    "country = 'Turkey'\n",
    "neutral = False\n",
    "\n",
    "try:\n",
    "    result = predict_match_outcome(date, home_team, away_team, home_score, away_score, tournament, city, country, neutral, model_ets, label_encoders, df_filtered_pr)\n",
    "    print(f\"Предсказанный исход матча {home_team} vs {away_team}: {result}\")\n",
    "except Exception as e:\n",
    "    logger.exception(f\"Ошибка моделирования предсказания матча: {e}\") "
   ]
  },
  {
   "cell_type": "code",
   "execution_count": 14,
   "metadata": {},
   "outputs": [
    {
     "name": "stdout",
     "output_type": "stream",
     "text": [
      "XGBoost Accuracy: 0.88\n",
      "XGBoost Classification Report:\n",
      "              precision    recall  f1-score   support\n",
      "\n",
      "    away_win       0.88      0.88      0.88       540\n",
      "        draw       0.78      0.86      0.82       433\n",
      "    home_win       0.94      0.89      0.91       949\n",
      "\n",
      "    accuracy                           0.88      1922\n",
      "   macro avg       0.87      0.88      0.87      1922\n",
      "weighted avg       0.89      0.88      0.88      1922\n",
      "\n"
     ]
    }
   ],
   "source": [
    "#XGBoost\n",
    "try:\n",
    "    model_xgb, label_encoders = xgboost_model(df_filtered)\n",
    "except Exception as e:\n",
    "    logger.exception(f\"Ошибка обучения модели: {e}\") "
   ]
  },
  {
   "cell_type": "code",
   "execution_count": 15,
   "metadata": {},
   "outputs": [
    {
     "name": "stdout",
     "output_type": "stream",
     "text": [
      "Предсказанный исход матча Turkey vs Hungary: Ничья\n"
     ]
    }
   ],
   "source": [
    "# Пример данных для предсказания использую будущий матч XGBoost\n",
    "date = '2025-03-20'\n",
    "home_team = 'Turkey'\n",
    "away_team = 'Hungary'\n",
    "home_score = None  \n",
    "away_score = None  \n",
    "tournament = 'UEFA Nations League'\n",
    "city = 'Istanbul'\n",
    "country = 'Turkey'\n",
    "neutral = False\n",
    "\n",
    "\n",
    "result = predict_match_outcome(date, home_team, away_team, home_score, away_score, tournament, city, country, neutral, model_xgb, label_encoders, df_filtered)\n",
    "print(f\"Предсказанный исход матча {home_team} vs {away_team}: {result}\")"
   ]
  },
  {
   "cell_type": "code",
   "execution_count": 16,
   "metadata": {},
   "outputs": [
    {
     "data": {
      "image/png": "[encoded data removed]",
      "text/plain": [
       "<Figure size 1000x600 with 1 Axes>"
      ]
     },
     "metadata": {},
     "output_type": "display_data"
    }
   ],
   "source": [
    "models = [\n",
    "    \"Gradient Boosting\",\n",
    "    \"AdaBoost\",\n",
    "    \"LightGBM\",\n",
    "    \"Extra Trees\",\n",
    "    \"XGBoost\"\n",
    "]\n",
    "\n",
    "accuracies = [0.88, 0.88, 0.89, 0.89, 0.88]  # Точности моделей\n",
    "\n",
    "visualizer.plot_model_accuracy(models, accuracies) "
   ]
  }
 ],
 "metadata": {
  "kernelspec": {
   "display_name": "Python 3",
   "language": "python",
   "name": "python3"
  },
  "language_info": {
   "codemirror_mode": {
    "name": "ipython",
    "version": 3
   },
   "file_extension": ".py",
   "mimetype": "text/x-python",
   "name": "python",
   "nbconvert_exporter": "python",
   "pygments_lexer": "ipython3",
   "version": "3.13.2"
  }
 },
 "nbformat": 4,
 "nbformat_minor": 2
}
